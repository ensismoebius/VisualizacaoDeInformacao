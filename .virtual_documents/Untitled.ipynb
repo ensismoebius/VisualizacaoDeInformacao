import panel as pn

pn.extension('plotly')

# Create two widgets
widget1 = pn.widgets.TextInput(name='Widget 1')
widget2 = pn.widgets.TextInput(name='Widget 2')

# Define the CSS styling for the line
css = """
<style>
.line {
    border: none;
    border-top: 1px solid red;
    position: relative;
    top: 50%;
}
</style>
"""

# Define the JavaScript code to update the line position
js = """
<script>
function updateLinePosition() {
    var line = document.getElementById('line');
    var widget1 = document.getElementById('widget1');
    var widget2 = document.getElementById('widget2');
    
    var rect1 = widget1.getBoundingClientRect();
    var rect2 = widget2.getBoundingClientRect();
    
    line.style.width = (rect2.left - rect1.right) + 'px';
    line.style.left = (rect1.right + window.scrollX) + 'px';
}

window.addEventListener('resize', updateLinePosition);
updateLinePosition();
</script>
"""

# Create the line as an HTML component
line = pn.pane.HTML(css + js + '<hr id="line" class="line">')

# Create a Panel layout with the widgets and the line
layout = pn.Column(widget1, line, widget2)

# Display the Panel
layout.show()




