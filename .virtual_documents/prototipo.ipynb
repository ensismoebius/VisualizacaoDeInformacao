!pip3 install ipympl pandas numpy scipy plotly dash > /dev/null


from dash import Dash, html, dash_table, dcc, Input, Output
import pandas as pd
import plotly.express as px
import plotly.graph_objs as go
from plotly.subplots import make_subplots

from scipy.io import loadmat
import numpy as np

from ipywidgets import interact, Dropdown, IntSlider
from PIL import Image


def joinIntoArray(start_col, end_col, newColumn, dataframe):
    cols_to_join = dataframe.iloc[:, start_col:end_col].columns
    dataframe[newColumn] = dataframe[cols_to_join].apply(lambda x: np.array(pd.to_numeric(x, errors='coerce')), axis=1)
    dataframe.drop(cols_to_join, axis=1, inplace=True)

def joinIntoValue(start_col, end_col, newColumn, dataframe):
    cols_to_join = dataframe.iloc[:, start_col:end_col].columns
    dataframe[newColumn] = dataframe[cols_to_join].apply(lambda x: pd.to_numeric(x, errors='coerce'), axis=1)
    dataframe.drop(cols_to_join, axis=1, inplace=True)


mat = loadmat(
    '/home/ensismoebius/Documentos/UNESP/doutorado/databases/Base de Datos Habla Imaginada/S01/S01_EEG.mat',
    struct_as_record=True, squeeze_me=True, mat_dtype=False
    )


df = pd.DataFrame(mat['EEG'])


df


joinIntoArray(0, 4096, 'F3', df)
joinIntoArray(0, 4096, 'F4', df)
joinIntoArray(0, 4096, 'C3', df)
joinIntoArray(0, 4096, 'C4', df)
joinIntoArray(0, 4096, 'P3', df)
joinIntoArray(0, 4096, 'P4', df)

joinIntoValue(0, 1, 'Modalidade', df)
joinIntoValue(0, 1, 'Estímulo', df)
joinIntoValue(0, 1, 'Artefatos', df)


df


df.iloc[[0]]


estimulos = {
    1  : "A",
    2  : "E",
    3  : "I",
    4  : "O",
    5  : "U",
    6  : "Arriba",
    7  : "Abajo",
    8  : "Adelante",
    9  : "Atrás",
    10 : "Derecha",
    11 : "Izquierda",
}

titulos = ["F3","F4","C3","C4","P3","P4"]


def plot(line, fig, dataset):
    fig.data = []
    fig.add_scatter(y=dataset.iloc[[line]]["F3"].values[0], row=1, col=1, name="F3")
    fig.add_scatter(y=dataset.iloc[[line]]["F4"].values[0], row=1, col=2, name="F4")
    fig.add_scatter(y=dataset.iloc[[line]]["C3"].values[0], row=1, col=3, name="C3")
    fig.add_scatter(y=dataset.iloc[[line]]["C4"].values[0], row=2, col=1, name="C4")
    fig.add_scatter(y=dataset.iloc[[line]]["P3"].values[0], row=2, col=2, name="P3")
    fig.add_scatter(y=dataset.iloc[[line]]["C4"].values[0], row=2, col=3, name="C4")
    
    fig.update_yaxes(range=[-150, 100], row=1, col=1)
    fig.update_yaxes(range=[-150, 100], row=1, col=2)
    fig.update_yaxes(range=[-150, 100], row=1, col=3)
    fig.update_yaxes(range=[-150, 100], row=2, col=1)
    fig.update_yaxes(range=[-150, 100], row=2, col=2)
    fig.update_yaxes(range=[-150, 100], row=2, col=3)
    
    estIndex=dataset.iloc[[line]]["Estímulo"].values[0]
    
    
    # Set the layout
    fig.update_layout(title="Estímulo: " + estimulos[estIndex] + " Sujeito: " + str(line), showlegend=False)

    # Show the plot
    fig.show()
    


f1 = make_subplots(rows=2, cols=3, shared_yaxes=True, shared_xaxes=True, subplot_titles=titulos)


def updatePlots(line, estimulo):
    df2 = df[(df.Estímulo == estimulo)]
    max_value = len(df2) - 1
    
    if line >= max_value:
        line = max_value - 1
    
    plot(line, f1, df2)


estimulos_list = [(v,k) for k, v in estimulos.items()]
estimulo_dropdown = Dropdown(options=estimulos_list, value=estimulos_list[0][1], description='Estímulo')

line_slider = IntSlider(min=0, max=len(df)-1, value=0, description='Sujeito')

interact(updatePlots, line=line_slider, estimulo=estimulo_dropdown)

def on_estimulo_change(change):
    estimulo = change['new']
    df2 = df[(df.Estímulo == estimulo)]
    max_value = len(df2) - 1
    line_slider.max = max_value
    if line_slider.value > max_value:
        line_slider.value = max_value

estimulo_dropdown.observe(on_estimulo_change, names='value')
